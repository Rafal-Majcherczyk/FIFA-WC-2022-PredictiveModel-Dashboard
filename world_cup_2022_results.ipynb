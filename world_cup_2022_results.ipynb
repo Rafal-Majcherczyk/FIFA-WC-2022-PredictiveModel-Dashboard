{
 "cells": [
  {
   "cell_type": "code",
   "execution_count": 1,
   "id": "9b97e123",
   "metadata": {},
   "outputs": [],
   "source": [
    "# PACKAGES\n",
    "import requests\n",
    "from bs4 import BeautifulSoup as bs\n",
    "import fnmatch\n",
    "from datetime import datetime\n",
    "import re\n",
    "import pandas as pd"
   ]
  },
  {
   "cell_type": "code",
   "execution_count": 2,
   "id": "21c66f80",
   "metadata": {},
   "outputs": [
    {
     "data": {
      "text/plain": [
       "<Response [200]>"
      ]
     },
     "execution_count": 2,
     "metadata": {},
     "output_type": "execute_result"
    }
   ],
   "source": [
    "response = requests.get(\"https://www.rsssf.org/tables/2022f.html\")\n",
    "response"
   ]
  },
  {
   "cell_type": "code",
   "execution_count": 8,
   "id": "9c4b4486",
   "metadata": {
    "scrolled": true
   },
   "outputs": [],
   "source": [
    "# PARSING CONTENT TO THE BS FORMAT AND CONVERTING TO STRING\n",
    "results_bs = bs(response.content, 'html.parser')\n",
    "results_raw = results_bs.get_text()\n",
    "# results_raw"
   ]
  },
  {
   "cell_type": "code",
   "execution_count": 23,
   "id": "c595d5a3",
   "metadata": {},
   "outputs": [],
   "source": [
    "# CREATING INITIAL LIST\n",
    "results_raw_list = results_raw.split(\"\\n\")\n",
    "# results_raw_list"
   ]
  },
  {
   "cell_type": "code",
   "execution_count": 12,
   "id": "ce7cbe74",
   "metadata": {},
   "outputs": [],
   "source": [
    "# CREATING A NEW LIST THAT WILL CONTAIN INFORMATION ABOUT MATCH\n",
    "# AND RELATED PENALTIES IN ONE LINE (IF PENALTIES OCCURED)\n",
    "results_pen_list = []\n",
    "for i in range(0,len(results_raw_list)-1):\n",
    "    if fnmatch.fnmatch(results_raw_list[i], \"*aet]*\"):\n",
    "        results_pen_list.append(results_raw_list[i]+results_raw_list[i+1])\n",
    "    else:\n",
    "        results_pen_list.append(results_raw_list[i])\n",
    "# results_pen_list"
   ]
  },
  {
   "cell_type": "code",
   "execution_count": 13,
   "id": "08013c88",
   "metadata": {},
   "outputs": [
    {
     "data": {
      "text/plain": [
       "'18-12-22 Lusail  Argentina         3-3 France           [aet]Argentina won 4-2 on penalties'"
      ]
     },
     "execution_count": 13,
     "metadata": {},
     "output_type": "execute_result"
    }
   ],
   "source": [
    "# PREPARING A SEPARATE AND REFORMATTED POSITION FOR THE WORLD CUP FINAL \n",
    "# AS IT HAS BEEN PROVIDED IN A DIFFERENT FORMAT THAN THE REST OF THE MATCHES\n",
    "\n",
    "# retrieving venue with date and results of the final as they were put\n",
    "# in separate lines\n",
    "venue_wrongdate = fnmatch.filter(results_pen_list, \"Lusail, December 18, 2022\")\n",
    "final_nodate_novenue = fnmatch.filter(results_pen_list, \"Argentina         3-3 France*\")\n",
    "# retrieving venue and date\n",
    "venue = venue_wrongdate[0].partition(\", \")[0]\n",
    "wrongdate = venue_wrongdate[0].partition(\", \")[2]\n",
    "# converting date to the format used for the remainder of matches\n",
    "date_elems = datetime.strptime(wrongdate, \"%B %d, %Y\")\n",
    "correctdate = datetime.strftime(date_elems, \"%d-%m-%y\")\n",
    "# preparing updated line\n",
    "correctdate_venue = correctdate + ' ' + venue\n",
    "# two spaces added between venue/date and the remainder of row to support\n",
    "# pattern recognition later in the code\n",
    "final = correctdate_venue + '  ' + final_nodate_novenue[0]\n",
    "final"
   ]
  },
  {
   "cell_type": "code",
   "execution_count": 19,
   "id": "9dc95bdb",
   "metadata": {
    "scrolled": true
   },
   "outputs": [],
   "source": [
    "# FILTERING OUT IRRELEVANT RECORDS AND CREATING NEW LIST COMPOSED OF\n",
    "# WORLD CUP MATCHES ALONG WITH INFORMATION ABOUT PENALTIES\n",
    "\n",
    "match_results = fnmatch.filter(results_pen_list, \"??-??-??*\")\n",
    "match_results.append(final)\n",
    "# match_results"
   ]
  },
  {
   "cell_type": "code",
   "execution_count": 25,
   "id": "d9f125ff",
   "metadata": {
    "scrolled": true
   },
   "outputs": [],
   "source": [
    "# UPDATING LIST SO THAT:\n",
    "# 1) COUNTRY NAMES ARE PROTECTED LATER ON WHEN ELEMENTS OF THE LIST \n",
    "# WILL BE SPLITTED INTO A FEW SEPARATE LISTS\n",
    "# Sign '&' will be added for countries which names are composed of\n",
    "# multiple words e.g. Saudi Arabia -> Saudi&Arabia\n",
    "# 2) REDUNDANT SPACE (IF EXISTS) AT THE BEGINNING OF DATE IS DELETED\n",
    "# 3)'USA' converted to 'United&States' to be consistent with the \n",
    "# convention used in the project\n",
    "\n",
    "# pattern1 to identify spaces within country names\n",
    "pattern1 = '(?<=[a-z]) (?=[A-Z])'\n",
    "# pattern2 to identify dates with days expressed as a single digit\n",
    "pattern2 = ' (?=[0-9]-[0-9][0-9]-[0-9][0-9])'\n",
    "# pattern3 to identify single and multiple spaces to convert them to \n",
    "# one sign so that we can split important information\n",
    "pattern3 = ' {1,}'\n",
    "match_results_upd = []\n",
    "for result in match_results:\n",
    "    if re.search(pattern1, result):\n",
    "        result = re.sub(pattern1, \"&\", result)\n",
    "    if fnmatch.fnmatch(result, '*USA*'):\n",
    "        result = result.replace('USA', 'United&States')\n",
    "    if re.search(pattern2, result):\n",
    "        result = re.sub(pattern2, \"\", result)\n",
    "    result = re.sub(pattern3, \"#\", result)\n",
    "    match_results_upd.append(result)\n",
    "# match_results_upd"
   ]
  },
  {
   "cell_type": "code",
   "execution_count": 31,
   "id": "85c67d6c",
   "metadata": {},
   "outputs": [],
   "source": [
    "# RETRIEVAL OF INFORMATION THAT WILL BE USED IN THE DASHBOARD IN THE FORM\n",
    "# OF LISTS\n",
    "\n",
    "# Date - format will be changed to YYYY-MM-DD to be consistent with\n",
    "# the rest of the project\n",
    "Date = []\n",
    "# Stage - similarly to the date we will use the naming convention for\n",
    "# stages that is consistent with the rest of the project\n",
    "Stage = []\n",
    "# Home team and away team - we are going to revert changes from the\n",
    "# previous step and replace \"&\" with space\n",
    "Home_Team = []\n",
    "Away_Team = []\n",
    "# Goals - data will be split by \"-\" sign\n",
    "Home_team_goals = []\n",
    "Away_team_goals = []\n",
    "# Match results - if game ended aet (after extra time) then we will use\n",
    "# the result of penalties (name of the winner is populated right after\n",
    "# \"[aet]\" espression). If not, we will look up the goals and determine \n",
    "# the winner that way\n",
    "Match_results = []\n",
    "\n",
    "for i in range(0, len(match_results_upd)):\n",
    "    result_upd = match_results_upd[i].split('#')\n",
    "    date_conver = result_upd[0]\n",
    "    date_elems = datetime.strptime(date_conver, '%d-%m-%y')\n",
    "    Date.append(datetime.strftime(date_elems, '%Y-%m-%d'))\n",
    "    if Date[i] >= '2022-11-20' and Date[i] <= '2022-12-02':\n",
    "        Stage.append('Group stage')\n",
    "    elif Date[i] >= '2022-12-03' and Date[i] <= '2022-12-06':\n",
    "        Stage.append('Round of 16')\n",
    "    elif Date[i] in ['2022-12-09','2022-12-10']:\n",
    "        Stage.append('Quarter-finals')\n",
    "    elif Date[i] in ['2022-12-13','2022-12-14']:\n",
    "        Stage.append('Semi-finals')\n",
    "    elif Date[i] == '2022-12-17':\n",
    "        Stage.append('Third place')\n",
    "    elif Date[i] == '2022-12-18':\n",
    "        Stage.append('Final')\n",
    "    else:\n",
    "        print(\"Error related to stages\")\n",
    "    Home_Team.append(result_upd[2].replace(\"&\",\" \"))\n",
    "    Away_Team.append(result_upd[4].replace(\"&\",\" \"))\n",
    "    Home_team_goals.append(result_upd[3].split(\"-\")[0])\n",
    "    Away_team_goals.append(result_upd[3].split(\"-\")[1])\n",
    "    if fnmatch.fnmatch(match_results_upd[i], \"*aet]*\"):\n",
    "        penalty_info = match_results_upd[i].split(\"aet]\")[1]\n",
    "        Match_results.append(penalty_info.split(\"#\")[0])\n",
    "    else:\n",
    "        if Home_team_goals[i] > Away_team_goals[i]:\n",
    "            Match_results.append(Home_Team[i])\n",
    "        elif Home_team_goals[i] < Away_team_goals[i]:\n",
    "            Match_results.append(Away_Team[i])\n",
    "        elif Home_team_goals[i] == Away_team_goals[i]:\n",
    "            Match_results.append(\"Draw\")\n",
    "        else:\n",
    "            print(\"Error related to match results\")"
   ]
  },
  {
   "cell_type": "code",
   "execution_count": 32,
   "id": "17fb142f",
   "metadata": {},
   "outputs": [
    {
     "data": {
      "text/html": [
       "<div>\n",
       "<style scoped>\n",
       "    .dataframe tbody tr th:only-of-type {\n",
       "        vertical-align: middle;\n",
       "    }\n",
       "\n",
       "    .dataframe tbody tr th {\n",
       "        vertical-align: top;\n",
       "    }\n",
       "\n",
       "    .dataframe thead th {\n",
       "        text-align: right;\n",
       "    }\n",
       "</style>\n",
       "<table border=\"1\" class=\"dataframe\">\n",
       "  <thead>\n",
       "    <tr style=\"text-align: right;\">\n",
       "      <th></th>\n",
       "      <th>Date</th>\n",
       "      <th>Stage</th>\n",
       "      <th>Home Team</th>\n",
       "      <th>Away Team</th>\n",
       "      <th>Match_results</th>\n",
       "    </tr>\n",
       "  </thead>\n",
       "  <tbody>\n",
       "    <tr>\n",
       "      <th>64</th>\n",
       "      <td>2022-06-14</td>\n",
       "      <td>Qualification</td>\n",
       "      <td></td>\n",
       "      <td></td>\n",
       "      <td></td>\n",
       "    </tr>\n",
       "    <tr>\n",
       "      <th>0</th>\n",
       "      <td>2022-11-20</td>\n",
       "      <td>Group stage</td>\n",
       "      <td>Qatar</td>\n",
       "      <td>Ecuador</td>\n",
       "      <td>Ecuador</td>\n",
       "    </tr>\n",
       "    <tr>\n",
       "      <th>6</th>\n",
       "      <td>2022-11-21</td>\n",
       "      <td>Group stage</td>\n",
       "      <td>England</td>\n",
       "      <td>Iran</td>\n",
       "      <td>England</td>\n",
       "    </tr>\n",
       "    <tr>\n",
       "      <th>7</th>\n",
       "      <td>2022-11-21</td>\n",
       "      <td>Group stage</td>\n",
       "      <td>United States</td>\n",
       "      <td>Wales</td>\n",
       "      <td>Draw</td>\n",
       "    </tr>\n",
       "    <tr>\n",
       "      <th>1</th>\n",
       "      <td>2022-11-21</td>\n",
       "      <td>Group stage</td>\n",
       "      <td>Senegal</td>\n",
       "      <td>Netherlands</td>\n",
       "      <td>Netherlands</td>\n",
       "    </tr>\n",
       "    <tr>\n",
       "      <th>...</th>\n",
       "      <td>...</td>\n",
       "      <td>...</td>\n",
       "      <td>...</td>\n",
       "      <td>...</td>\n",
       "      <td>...</td>\n",
       "    </tr>\n",
       "    <tr>\n",
       "      <th>59</th>\n",
       "      <td>2022-12-10</td>\n",
       "      <td>Quarter-finals</td>\n",
       "      <td>England</td>\n",
       "      <td>France</td>\n",
       "      <td>France</td>\n",
       "    </tr>\n",
       "    <tr>\n",
       "      <th>60</th>\n",
       "      <td>2022-12-13</td>\n",
       "      <td>Semi-finals</td>\n",
       "      <td>Argentina</td>\n",
       "      <td>Croatia</td>\n",
       "      <td>Argentina</td>\n",
       "    </tr>\n",
       "    <tr>\n",
       "      <th>61</th>\n",
       "      <td>2022-12-14</td>\n",
       "      <td>Semi-finals</td>\n",
       "      <td>France</td>\n",
       "      <td>Morocco</td>\n",
       "      <td>France</td>\n",
       "    </tr>\n",
       "    <tr>\n",
       "      <th>62</th>\n",
       "      <td>2022-12-17</td>\n",
       "      <td>Third place</td>\n",
       "      <td>Croatia</td>\n",
       "      <td>Morocco</td>\n",
       "      <td>Croatia</td>\n",
       "    </tr>\n",
       "    <tr>\n",
       "      <th>63</th>\n",
       "      <td>2022-12-18</td>\n",
       "      <td>Final</td>\n",
       "      <td>Argentina</td>\n",
       "      <td>France</td>\n",
       "      <td>Argentina</td>\n",
       "    </tr>\n",
       "  </tbody>\n",
       "</table>\n",
       "<p>65 rows × 5 columns</p>\n",
       "</div>"
      ],
      "text/plain": [
       "          Date           Stage      Home Team    Away Team Match_results\n",
       "64  2022-06-14   Qualification                                          \n",
       "0   2022-11-20     Group stage          Qatar      Ecuador       Ecuador\n",
       "6   2022-11-21     Group stage        England         Iran       England\n",
       "7   2022-11-21     Group stage  United States        Wales          Draw\n",
       "1   2022-11-21     Group stage        Senegal  Netherlands   Netherlands\n",
       "..         ...             ...            ...          ...           ...\n",
       "59  2022-12-10  Quarter-finals        England       France        France\n",
       "60  2022-12-13     Semi-finals      Argentina      Croatia     Argentina\n",
       "61  2022-12-14     Semi-finals         France      Morocco        France\n",
       "62  2022-12-17     Third place        Croatia      Morocco       Croatia\n",
       "63  2022-12-18           Final      Argentina       France     Argentina\n",
       "\n",
       "[65 rows x 5 columns]"
      ]
     },
     "execution_count": 32,
     "metadata": {},
     "output_type": "execute_result"
    }
   ],
   "source": [
    "# CREATING DICTIONARY FROM DATA RELEVANT TO THE DASHBOARD \n",
    "# AND THEN DATA FRAME BASED ON IT\n",
    "# Then additional position including information about World Cup \n",
    "# Qualification is added for dashboard purposes\n",
    "\n",
    "wc_results_dict = {\n",
    "    \"Date\" : Date,\n",
    "    \"Stage\" : Stage,\n",
    "    \"Home Team\" : Home_Team,\n",
    "    \"Away Team\" : Away_Team,\n",
    "    \"Match_results\" : Match_results,\n",
    "}\n",
    "\n",
    "wc_results = pd.DataFrame(wc_results_dict)\n",
    "wc_results.loc[len(wc_results)] = ['2022-06-14','Qualification','','','']\n",
    "wc_results = wc_results.sort_values(\"Date\", ascending = True)\n",
    "wc_results"
   ]
  },
  {
   "cell_type": "code",
   "execution_count": 33,
   "id": "5dcf6f3d",
   "metadata": {},
   "outputs": [],
   "source": [
    "wc_results.to_csv(r'C:\\users\\majch\\desktop\\world_cup_2022_results.csv', index = False)"
   ]
  }
 ],
 "metadata": {
  "kernelspec": {
   "display_name": "Python 3 (ipykernel)",
   "language": "python",
   "name": "python3"
  },
  "language_info": {
   "codemirror_mode": {
    "name": "ipython",
    "version": 3
   },
   "file_extension": ".py",
   "mimetype": "text/x-python",
   "name": "python",
   "nbconvert_exporter": "python",
   "pygments_lexer": "ipython3",
   "version": "3.9.12"
  }
 },
 "nbformat": 4,
 "nbformat_minor": 5
}
